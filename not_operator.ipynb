{
 "cells": [
  {
   "cell_type": "code",
   "execution_count": 1,
   "metadata": {},
   "outputs": [],
   "source": [
    "import numpy as np\n",
    "import matplotlib.pyplot as plt\n",
    "\n",
    "sigma = lambda z : 1 / (1 + np.exp(-z))\n",
    "d_sigma = lambda z : np.cosh(z / 2) ** (-2) / 4\n",
    "\n",
    "def training_data(N=10):\n",
    "    x = np.array([np.random.randint(0, 2) for _ in range(N)])\n",
    "    y = np.array([abs(1 - i) for i in x])\n",
    "    # x_vec = x.reshape(len(x), 1)\n",
    "    x_vec = x.reshape(1, len(x))\n",
    "    y_vec = y.reshape(len(y), 1)\n",
    "    return x_vec, y_vec\n",
    "\n",
    "def reset(n1 = 1, n2 = 1, random=np.random):\n",
    "    global W1, W2, W3, b1, b2, b3\n",
    "    W1 = random.randn(n1, 1) / 2\n",
    "    W2 = random.randn(n2, n1) / 2\n",
    "    W3 = random.randn(1, n2) / 2\n",
    "    b1 = random.randn(n1, 1) / 2\n",
    "    b2 = random.randn(n2, 1) / 2\n",
    "    b3 = random.randn(1, 1) / 2\n",
    "    \n",
    "def network_function(a0):\n",
    "    # z1 = W1 @ a0.T + b1\n",
    "    z1 = W1 @ a0 + b1\n",
    "    a1 = sigma(z1)\n",
    "    z2 = W2 @ a1 + b2\n",
    "    a2 = sigma(z2)\n",
    "    z3 = W3 @ a2 + b3\n",
    "    a3 = sigma(z3)\n",
    "    return a0, z1, a1, z2, a2, z3, a3\n",
    "\n",
    "def cost(x, y):\n",
    "    cost_arr = (network_function(x)[-1] - y.T) ** 2\n",
    "    return np.ndarray.sum(cost_arr) / x.size\n",
    "\n",
    "    # return np.linalg.norm(network_function(x)[-1] - y) ** 2 / x.size"
   ]
  },
  {
   "cell_type": "markdown",
   "metadata": {},
   "source": [
    "BACKPROPAGATION<br>\n",
    "&emsp;Cost L = 1/N * (sum of L_k over N training cases)<br>\n",
    "\n",
    "LAYER 3:<br>\n",
    "\n",
    "dz3/dW3 = a2<br>\n",
    "dz3/db3 = 1<br>\n",
    "da3/dz3 = d_sigma(z3)<br>\n",
    "\n",
    "&emsp;e3 = dL/da3 = 2 * (a3 - y)<br>\n",
    "&emsp;dL/dW3 = dL/da3 * da3/dz3 * dz3/dW3<br>\n",
    "&emsp;dL/db3 = dL/da3 * da3/dz3 * dz3/db3<br>\n",
    "\n",
    "LAYER 2:<br>\n",
    "\n",
    "da3/da2 = d_sigma(z3) * W3\n",
    "dz2/dW2 = a1<br>\n",
    "dz2/db2 = 1<br>\n",
    "da2/dz2 = d_sigma(z2)<br>\n",
    "\n",
    "&emsp;e2 = e3 * da3/da2<br>\n",
    "&emsp;dL/dW2 = e2 * da2/dz2 * dz2/dW2<br>\n",
    "&emsp;dL/db2 = e2 * da2/dz2 * dz2/db2<br>\n",
    "\n",
    "LAYER 1:<br>\n",
    "\n",
    "da2/da1 = d_sigma(z2) * W2\n",
    "dz1/dW1 = a0<br>\n",
    "dz1/db1 = 1<br>\n",
    "da1/dz1 = d_sigma(z1)<br>\n",
    "\n",
    "&emsp;e1 = e2 * da2/da1<br>\n",
    "&emsp;dL/dW1 = e1 * da1/dz1 * dz1/dW1<br>\n",
    "&emsp;dL/db1 = e1 * da1/dz1 * dz1/db1<br>"
   ]
  },
  {
   "cell_type": "code",
   "execution_count": 2,
   "metadata": {},
   "outputs": [],
   "source": [
    "def jacobians(x, y):\n",
    "    a0, z1, a1, z2, a2, z3, a3 = network_function(x)\n",
    "    \n",
    "    # Layer 3\n",
    "    dz3dW3 = a2\n",
    "    dz3db3 = 1\n",
    "    da3dz3 = d_sigma(z3)    # (1, N)\n",
    "    e3 = 2 * (a3 - y.T)     # (1, N)\n",
    "    # print(f'{e3.shape} {da3dz3.shape} {dz3dW3.shape}')\n",
    "    dLdW3 = e3 * da3dz3 @ dz3dW3.T / x.size # (No. nodes a3, No. nodes a2)\n",
    "    dLdb3 = np.sum(e3 * da3dz3 * dz3db3, keepdims=True) / x.size # (No. nodes a3, 1)\n",
    "    \n",
    "    # return dz3dW3, dz3db3, da3dz3, e3, dLdW3, dLdb3\n",
    "    \n",
    "    # Layer 2\n",
    "    # da3da2 = d_sigma(z3) * W3\n",
    "    # e2 = e3 * da3da2\n",
    "    e2 = ((e3 * d_sigma(z3)).T @ W3).T\n",
    "    # print(f'{e3.shape} {W3.shape} {d_sigma(z3).shape}')\n",
    "    dz2dW2 = a1\n",
    "    dz2db2 = 1\n",
    "    da2dz2 = d_sigma(z2)\n",
    "    # print(f'{e2.shape} {da2dz2.shape} {dz2dW2.shape}')\n",
    "    dLdW2 = e2 * da2dz2 @ dz2dW2.T / x.size\n",
    "    dLdb2 = np.sum(e2 * da2dz2 * dz2db2, keepdims=True) / x.size\n",
    "        \n",
    "    # # Layer 1\n",
    "    # da2da1 = d_sigma(z2) * W2\n",
    "    # e1 = e2 * da2da1\n",
    "    e1 = ((e2 * d_sigma(z2)).T @ W2).T\n",
    "    dz1dW1 = a0\n",
    "    dz1db1 = 1\n",
    "    da1dz1 = d_sigma(z1)\n",
    "    # print(f'{e1.shape} {da1dz1.shape} {dz1dW1.shape}')\n",
    "    dLdW1 = e1 * da1dz1 @ dz1dW1.T / x.size\n",
    "    dLdb1 = np.sum(e2 * da1dz1 * dz1db1, keepdims=True) / x.size\n",
    "    \n",
    "    return dLdW1, dLdb1, dLdW2, dLdb2, dLdW3, dLdb3\n",
    "\n",
    "# reset()\n",
    "# x, y = training_data()\n",
    "# # dz3dW3, dz3db3, da3dz3, e3, dLdW3, dLdb3 = jacobians(x, y)\n",
    "# dLdW1, dLdb1 = jacobians(x, y)\n",
    "# print(f'dLdW3 {dLdW1}')\n",
    "# print(f'dLdb3 {dLdb1}')"
   ]
  },
  {
   "cell_type": "code",
   "execution_count": 3,
   "metadata": {},
   "outputs": [],
   "source": [
    "def training(x, y, iterations=10, step=1, noise=1):\n",
    "    global W1, W2, W3, b1, b2, b3, prev_cost\n",
    "    i = 1\n",
    "    cost_list = []\n",
    "    change_list = []\n",
    "    \n",
    "    while iterations >= 0:\n",
    "        curr_cost = cost(x, y)\n",
    "        cost_list.append(curr_cost)\n",
    "        \n",
    "        # calculate cost change\n",
    "        change = abs((curr_cost - prev_cost) / prev_cost)\n",
    "        # print(change)\n",
    "        \n",
    "        # if cost change <= .0001\n",
    "        #   1. update step?\n",
    "        #   2. stop?\n",
    "        \n",
    "        # if change <= .000001:\n",
    "        #     step = step / 2\n",
    "\n",
    "        # if change <= .000001: \n",
    "        #     print('Cost change <= .0001! CONVERGED!')\n",
    "        #     return cost_list, change_list\n",
    "        \n",
    "        change_list.append(change)\n",
    "        # print(f'\\nCost: {curr_cost}\\n\\n\\tChange: {change}')\n",
    "        prev_cost = curr_cost\n",
    "        dLdW1, dLdb1, dLdW2, dLdb2, dLdW3, dLdb3 = jacobians(x, y)\n",
    "        \n",
    "        dLdW1 = dLdW1 * (1 + np.random.randn() * noise)\n",
    "        dLdb1 = dLdb1 * (1 + np.random.randn() * noise)\n",
    "        dLdW2 = dLdW2 * (1 + np.random.randn() * noise)\n",
    "        dLdb2 = dLdb2 * (1 + np.random.randn() * noise)\n",
    "        dLdW3 = dLdW3 * (1 + np.random.randn() * noise)\n",
    "        dLdb3 = dLdb3 * (1 + np.random.randn() * noise)\n",
    "        \n",
    "        W1 = W1 - dLdW1 * step\n",
    "        W2 = W2 - dLdW2 * step\n",
    "        W3 = W3 - dLdW3 * step\n",
    "        b1 = b1 - dLdb1 * step\n",
    "        b2 = b2 - dLdb2 * step\n",
    "        b3 = b3 - dLdb3 * step\n",
    "        \n",
    "        # iteration_list.append(i)\n",
    "        i += 1\n",
    "        iterations -= 1\n",
    "    \n",
    "    # print(f'\\nLast cost {cost(x, y)}')\n",
    "    return cost_list, change_list"
   ]
  },
  {
   "cell_type": "code",
   "execution_count": 15,
   "metadata": {},
   "outputs": [],
   "source": [
    "size = 1000\n",
    "    # cost jumps -> correct output?\n",
    "epochs = 10000\n",
    "st = 1 # step\n",
    "\n",
    "x, y = training_data(N=size)\n",
    "reset()\n",
    "prev_cost = 1\n",
    "cost_list, change_list = training(x, y, iterations=epochs, step=st)"
   ]
  },
  {
   "cell_type": "markdown",
   "metadata": {},
   "source": [
    "TEST"
   ]
  },
  {
   "cell_type": "markdown",
   "metadata": {},
   "source": []
  },
  {
   "cell_type": "code",
   "execution_count": 16,
   "metadata": {},
   "outputs": [
    {
     "name": "stdout",
     "output_type": "stream",
     "text": [
      "TESTING\n",
      "In:\t[[0 1 1 1 0 0 0 1 0 1]]\n",
      "Out:\t[[0.9892 0.0126 0.0126 0.0126 0.9892 0.9892 0.9892 0.0126 0.9892 0.0126]]\n"
     ]
    },
    {
     "data": {
      "image/png": "[encoded data removed]",
      "text/plain": [
       "<Figure size 864x576 with 1 Axes>"
      ]
     },
     "metadata": {
      "needs_background": "light"
     },
     "output_type": "display_data"
    }
   ],
   "source": [
    "plt.rcParams[\"figure.figsize\"] = (12, 8)\n",
    "fig, ax = plt.subplots()\n",
    "# plt.figure(figsize=(12, 8))\n",
    "ax.plot(np.arange(len(cost_list)), cost_list)\n",
    "ax.set_title(f'Cost vs epoch, training size = {size}, {epochs} epochs, step = {st}')\n",
    "\n",
    "print(\"TESTING\")\n",
    "test_set = np.array([np.random.randint(0, 2) for _ in range(10)]).reshape(1, 10)\n",
    "test_result = network_function(test_set)[-1]\n",
    "print(f'In:\\t{test_set}\\nOut:\\t{test_result.round(4)}')"
   ]
  },
  {
   "cell_type": "code",
   "execution_count": null,
   "metadata": {},
   "outputs": [],
   "source": []
  }
 ],
 "metadata": {
  "kernelspec": {
   "display_name": "Python 3.10.5 64-bit",
   "language": "python",
   "name": "python3"
  },
  "language_info": {
   "codemirror_mode": {
    "name": "ipython",
    "version": 3
   },
   "file_extension": ".py",
   "mimetype": "text/x-python",
   "name": "python",
   "nbconvert_exporter": "python",
   "pygments_lexer": "ipython3",
   "version": "3.10.5"
  },
  "orig_nbformat": 4,
  "vscode": {
   "interpreter": {
    "hash": "a42ccb73e7d9bfdf27e036f1d2b8b681e55fc0743cc5586bc2474d4a60f4b886"
   }
  }
 },
 "nbformat": 4,
 "nbformat_minor": 2
}
